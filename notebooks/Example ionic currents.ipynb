{
 "cells": [
  {
   "cell_type": "markdown",
   "metadata": {},
   "source": [
    "# PIP install necessary packages "
   ]
  },
  {
   "cell_type": "code",
   "execution_count": 1,
   "metadata": {
    "collapsed": false
   },
   "outputs": [
    {
     "name": "stdout",
     "output_type": "stream",
     "text": [
      "Requirement already up-to-date: gitpython in /home/oreilly/.local/lib/python3.4/site-packages\n",
      "Requirement already up-to-date: gitdb>=0.6.4 in /home/oreilly/.local/lib/python3.4/site-packages (from gitpython)\n",
      "Requirement already up-to-date: smmap>=0.8.5 in /home/oreilly/.local/lib/python3.4/site-packages (from gitdb>=0.6.4->gitpython)\n",
      "\u001b[33mYou are using pip version 8.0.2, however version 8.1.2 is available.\n",
      "You should consider upgrading via the 'pip install --upgrade pip' command.\u001b[0m\n",
      "Requirement already up-to-date: mpld3 in /home/oreilly/.local/lib/python3.4/site-packages\n",
      "\u001b[33mYou are using pip version 8.0.2, however version 8.1.2 is available.\n",
      "You should consider upgrading via the 'pip install --upgrade pip' command.\u001b[0m\n"
     ]
    }
   ],
   "source": [
    "!pip install --upgrade gitpython --user\n",
    "!pip install --upgrade mpld3 --user"
   ]
  },
  {
   "cell_type": "code",
   "execution_count": 2,
   "metadata": {
    "collapsed": false
   },
   "outputs": [
    {
     "data": {
      "text/plain": [
       "[<matplotlib.lines.Line2D at 0x7fb80c760358>]"
      ]
     },
     "execution_count": 2,
     "metadata": {},
     "output_type": "execute_result"
    },
    {
     "data": {
      "image/png": "[encoded data removed]",
      "text/html": [
       "\n",
       "\n",
       "<style>\n",
       "\n",
       "</style>\n",
       "\n",
       "<div id=\"fig_el190421404289242842649339630095\"></div>\n",
       "<script>\n",
       "function mpld3_load_lib(url, callback){\n",
       "  var s = document.createElement('script');\n",
       "  s.src = url;\n",
       "  s.async = true;\n",
       "  s.onreadystatechange = s.onload = callback;\n",
       "  s.onerror = function(){console.warn(\"failed to load library \" + url);};\n",
       "  document.getElementsByTagName(\"head\")[0].appendChild(s);\n",
       "}\n",
       "\n",
       "if(typeof(mpld3) !== \"undefined\" && mpld3._mpld3IsLoaded){\n",
       "   // already loaded: just create the figure\n",
       "   !function(mpld3){\n",
       "       \n",
       "       mpld3.draw_figure(\"fig_el190421404289242842649339630095\", {\"height\": 320.0, \"plugins\": [{\"type\": \"reset\"}, {\"enabled\": false, \"type\": \"zoom\", \"button\": true}, {\"enabled\": false, \"type\": \"boxzoom\", \"button\": true}], \"data\": {\"data01\": [[0.0, 0.0], [1.0, 1.0], [2.0, 2.0], [3.0, 3.0], [4.0, 4.0], [5.0, 5.0], [6.0, 6.0], [7.0, 7.0], [8.0, 8.0], [9.0, 9.0]]}, \"axes\": [{\"zoomable\": true, \"texts\": [], \"xscale\": \"linear\", \"xlim\": [0.0, 9.0], \"paths\": [], \"axesbg\": \"#FFFFFF\", \"markers\": [], \"lines\": [{\"zorder\": 2, \"linewidth\": 1.0, \"data\": \"data01\", \"coordinates\": \"data\", \"yindex\": 1, \"xindex\": 0, \"alpha\": 1, \"color\": \"#0000FF\", \"id\": \"el19042140428459770712\", \"dasharray\": \"10,0\"}], \"sharex\": [], \"images\": [], \"axes\": [{\"tickformat\": null, \"position\": \"bottom\", \"nticks\": 10, \"grid\": {\"gridOn\": false}, \"scale\": \"linear\", \"fontsize\": 10.0, \"tickvalues\": null}, {\"tickformat\": null, \"position\": \"left\", \"nticks\": 10, \"grid\": {\"gridOn\": false}, \"scale\": \"linear\", \"fontsize\": 10.0, \"tickvalues\": null}], \"yscale\": \"linear\", \"ylim\": [0.0, 9.0], \"ydomain\": [0.0, 9.0], \"axesbgalpha\": null, \"id\": \"el19042140428460308464\", \"xdomain\": [0.0, 9.0], \"sharey\": [], \"bbox\": [0.125, 0.125, 0.775, 0.775], \"collections\": []}], \"id\": \"el19042140428924284264\", \"width\": 480.0});\n",
       "   }(mpld3);\n",
       "}else if(typeof define === \"function\" && define.amd){\n",
       "   // require.js is available: use it to load d3/mpld3\n",
       "   require.config({paths: {d3: \"https://mpld3.github.io/js/d3.v3.min\"}});\n",
       "   require([\"d3\"], function(d3){\n",
       "      window.d3 = d3;\n",
       "      mpld3_load_lib(\"https://mpld3.github.io/js/mpld3.v0.2.js\", function(){\n",
       "         \n",
       "         mpld3.draw_figure(\"fig_el190421404289242842649339630095\", {\"height\": 320.0, \"plugins\": [{\"type\": \"reset\"}, {\"enabled\": false, \"type\": \"zoom\", \"button\": true}, {\"enabled\": false, \"type\": \"boxzoom\", \"button\": true}], \"data\": {\"data01\": [[0.0, 0.0], [1.0, 1.0], [2.0, 2.0], [3.0, 3.0], [4.0, 4.0], [5.0, 5.0], [6.0, 6.0], [7.0, 7.0], [8.0, 8.0], [9.0, 9.0]]}, \"axes\": [{\"zoomable\": true, \"texts\": [], \"xscale\": \"linear\", \"xlim\": [0.0, 9.0], \"paths\": [], \"axesbg\": \"#FFFFFF\", \"markers\": [], \"lines\": [{\"zorder\": 2, \"linewidth\": 1.0, \"data\": \"data01\", \"coordinates\": \"data\", \"yindex\": 1, \"xindex\": 0, \"alpha\": 1, \"color\": \"#0000FF\", \"id\": \"el19042140428459770712\", \"dasharray\": \"10,0\"}], \"sharex\": [], \"images\": [], \"axes\": [{\"tickformat\": null, \"position\": \"bottom\", \"nticks\": 10, \"grid\": {\"gridOn\": false}, \"scale\": \"linear\", \"fontsize\": 10.0, \"tickvalues\": null}, {\"tickformat\": null, \"position\": \"left\", \"nticks\": 10, \"grid\": {\"gridOn\": false}, \"scale\": \"linear\", \"fontsize\": 10.0, \"tickvalues\": null}], \"yscale\": \"linear\", \"ylim\": [0.0, 9.0], \"ydomain\": [0.0, 9.0], \"axesbgalpha\": null, \"id\": \"el19042140428460308464\", \"xdomain\": [0.0, 9.0], \"sharey\": [], \"bbox\": [0.125, 0.125, 0.775, 0.775], \"collections\": []}], \"id\": \"el19042140428924284264\", \"width\": 480.0});\n",
       "      });\n",
       "    });\n",
       "}else{\n",
       "    // require.js not available: dynamically load d3 & mpld3\n",
       "    mpld3_load_lib(\"https://mpld3.github.io/js/d3.v3.min.js\", function(){\n",
       "         mpld3_load_lib(\"https://mpld3.github.io/js/mpld3.v0.2.js\", function(){\n",
       "                 \n",
       "                 mpld3.draw_figure(\"fig_el190421404289242842649339630095\", {\"height\": 320.0, \"plugins\": [{\"type\": \"reset\"}, {\"enabled\": false, \"type\": \"zoom\", \"button\": true}, {\"enabled\": false, \"type\": \"boxzoom\", \"button\": true}], \"data\": {\"data01\": [[0.0, 0.0], [1.0, 1.0], [2.0, 2.0], [3.0, 3.0], [4.0, 4.0], [5.0, 5.0], [6.0, 6.0], [7.0, 7.0], [8.0, 8.0], [9.0, 9.0]]}, \"axes\": [{\"zoomable\": true, \"texts\": [], \"xscale\": \"linear\", \"xlim\": [0.0, 9.0], \"paths\": [], \"axesbg\": \"#FFFFFF\", \"markers\": [], \"lines\": [{\"zorder\": 2, \"linewidth\": 1.0, \"data\": \"data01\", \"coordinates\": \"data\", \"yindex\": 1, \"xindex\": 0, \"alpha\": 1, \"color\": \"#0000FF\", \"id\": \"el19042140428459770712\", \"dasharray\": \"10,0\"}], \"sharex\": [], \"images\": [], \"axes\": [{\"tickformat\": null, \"position\": \"bottom\", \"nticks\": 10, \"grid\": {\"gridOn\": false}, \"scale\": \"linear\", \"fontsize\": 10.0, \"tickvalues\": null}, {\"tickformat\": null, \"position\": \"left\", \"nticks\": 10, \"grid\": {\"gridOn\": false}, \"scale\": \"linear\", \"fontsize\": 10.0, \"tickvalues\": null}], \"yscale\": \"linear\", \"ylim\": [0.0, 9.0], \"ydomain\": [0.0, 9.0], \"axesbgalpha\": null, \"id\": \"el19042140428460308464\", \"xdomain\": [0.0, 9.0], \"sharey\": [], \"bbox\": [0.125, 0.125, 0.775, 0.775], \"collections\": []}], \"id\": \"el19042140428924284264\", \"width\": 480.0});\n",
       "            })\n",
       "         });\n",
       "}\n",
       "</script>"
      ],
      "text/plain": [
       "<matplotlib.figure.Figure at 0x7fb82825ed68>"
      ]
     },
     "metadata": {},
     "output_type": "display_data"
    }
   ],
   "source": [
    "%matplotlib inline\n",
    "import mpld3\n",
    "mpld3.enable_notebook()\n",
    "import matplotlib.pyplot as plt\n",
    "\n",
    "plt.plot(range(10), range(10))\n"
   ]
  },
  {
   "cell_type": "markdown",
   "metadata": {},
   "source": [
    "# GIT clone the corpus"
   ]
  },
  {
   "cell_type": "code",
   "execution_count": 3,
   "metadata": {
    "collapsed": true
   },
   "outputs": [],
   "source": [
    "from git import Repo\n",
    "import os\n",
    "\n",
    "git_url = \"https://github.com/christian-oreilly/corpus-thalamus.git\"\n",
    "repo_dir = os.path.join(os.getcwd(), \"neurocuratorDB\")\n",
    "if not os.path.isdir(repo_dir):\n",
    "    Repo.clone_from(git_url, repo_dir)\n",
    "else:\n",
    "    Repo(repo_dir).remotes.origin.pull()"
   ]
  },
  {
   "cell_type": "markdown",
   "metadata": {},
   "source": [
    "# Querying the corpus"
   ]
  },
  {
   "cell_type": "code",
   "execution_count": 4,
   "metadata": {
    "collapsed": false
   },
   "outputs": [
    {
     "name": "stdout",
     "output_type": "stream",
     "text": [
      "Incompatibility between in NIFMOL:nifext_8054:Sodium transient fast current. Correcting to BBP_nlx_0003:Sodium transient fast current\n",
      "Incompatibility between in NIFCELL:sao1813327414:Thalamic reticular nucleus cell. Correcting to NIFCELL:nifext_45:Thalamic reticular nucleus cell\n",
      "Incompatibility between in NIFMOL:nifext_8054:Potassium delayed rectifier. Correcting to BBP_nlx_0006:Potassium delayed rectifier\n",
      "Incompatibility between in NIFCELL:sao1813327414:Thalamic reticular nucleus cell. Correcting to NIFCELL:nifext_45:Thalamic reticular nucleus cell\n",
      "Incompatibility between in NIFMOL:nifext_8054:Sodium transient fast current. Correcting to BBP_nlx_0003:Sodium transient fast current\n",
      "Incompatibility between in NIFCELL:sao1813327414:Thalamic reticular nucleus cell. Correcting to NIFCELL:nifext_45:Thalamic reticular nucleus cell\n",
      "Incompatibility between in NIFMOL:nifext_8054:Potassium delayed rectifier. Correcting to BBP_nlx_0006:Potassium delayed rectifier\n",
      "Incompatibility between in NIFCELL:sao1813327414:Thalamic reticular nucleus cell. Correcting to NIFCELL:nifext_45:Thalamic reticular nucleus cell\n",
      "Incompatibility between in NIFCELL:sao1813327414:Thalamic reticular nucleus cell. Correcting to NIFCELL:nifext_45:Thalamic reticular nucleus cell\n",
      "Incompatibility between in NIFCELL:sao1813327414:Thalamic reticular nucleus cell. Correcting to NIFCELL:nifext_45:Thalamic reticular nucleus cell\n",
      "Incompatibility between in NIFCELL:sao1813327414:Thalamic reticular nucleus cell. Correcting to NIFCELL:nifext_45:Thalamic reticular nucleus cell\n",
      "Incompatibility between in NIFMOL:nifext_8054:Low threshold calcium T-current. Correcting to BBP_nlx_0011:Low threshold calcium T-current\n",
      "Incompatibility between in NIFCELL:sao1813327414:Thalamic reticular nucleus cell. Correcting to NIFCELL:nifext_45:Thalamic reticular nucleus cell\n",
      "Incompatibility between in NIFMOL:nifext_8054:Low threshold calcium T-current. Correcting to BBP_nlx_0011:Low threshold calcium T-current\n",
      "Incompatibility between in NIFCELL:sao1813327414:Thalamic reticular nucleus cell. Correcting to NIFCELL:nifext_45:Thalamic reticular nucleus cell\n",
      "Incompatibility between in nlx_78803:Burst firing pattern. Correcting to nlx_78803:Burst Firing Pattern\n",
      "Incompatibility between in NIFCELL:sao1813327414:Thalamocortical cell. Correcting to NIFCELL:nifext_41:Thalamocortical cell\n",
      "Incompatibility between in NIFCELL:sao1813327414:Thalamocortical cell. Correcting to NIFCELL:nifext_41:Thalamocortical cell\n",
      "Incompatibility between in NIFCELL:sao1813327414:Thalamocortical cell. Correcting to NIFCELL:nifext_41:Thalamocortical cell\n",
      "Incompatibility between in NIFCELL:sao1813327414:Thalamocortical cell. Correcting to NIFCELL:nifext_41:Thalamocortical cell\n",
      "Incompatibility between in NIFGA:nlx_anat_1010:Afferent. Correcting to NIFGA:nlx_anat_1010:Afferent role\n",
      "Incompatibility between in NIFGA:nlx_anat_1010:Afferent. Correcting to NIFGA:nlx_anat_1010:Afferent role\n",
      "Incompatibility between in NIFCELL:sao1813327414:Thalamus relay cell. Correcting to NIFCELL:nlx_cell_20081203:Thalamus relay cell\n",
      "Incompatibility between in NIFCELL:sao1813327414:Thalamus relay cell. Correcting to NIFCELL:nlx_cell_20081203:Thalamus relay cell\n",
      "Incompatibility between in NIFCELL:sao1813327414:Thalamus relay cell. Correcting to NIFCELL:nlx_cell_20081203:Thalamus relay cell\n",
      "Incompatibility between in NIFCELL:sao1813327414:Thalamic reticular nucleus cell. Correcting to NIFCELL:nifext_45:Thalamic reticular nucleus cell\n",
      "Incompatibility between in NIFMOL:nifext_8054:Low threshold calcium T-current. Correcting to BBP_nlx_0011:Low threshold calcium T-current\n",
      "Incompatibility between in NIFCELL:sao1813327414:Thalamocortical cell. Correcting to NIFCELL:nifext_41:Thalamocortical cell\n",
      "Incompatibility between in NIFMOL:nifext_8054:Low threshold calcium T-current. Correcting to BBP_nlx_0011:Low threshold calcium T-current\n",
      "Incompatibility between in NIFCELL:sao1813327414:Thalamic reticular nucleus cell. Correcting to NIFCELL:nifext_45:Thalamic reticular nucleus cell\n",
      "Incompatibility between in NIFMOL:nifext_8054:Low threshold calcium T-current. Correcting to BBP_nlx_0011:Low threshold calcium T-current\n",
      "Incompatibility between in NIFCELL:sao1813327414:Thalamocortical cell. Correcting to NIFCELL:nifext_41:Thalamocortical cell\n",
      "Incompatibility between in NIFMOL:nifext_8054:Low threshold calcium T-current. Correcting to BBP_nlx_0011:Low threshold calcium T-current\n",
      "Incompatibility between in NIFCELL:sao1813327414:Thalamocortical cell. Correcting to NIFCELL:nifext_41:Thalamocortical cell\n",
      "Incompatibility between in NIFMOL:nifext_8054:Low threshold calcium T-current. Correcting to BBP_nlx_0011:Low threshold calcium T-current\n",
      "Incompatibility between in NIFCELL:sao1813327414:Thalamic reticular nucleus cell. Correcting to NIFCELL:nifext_45:Thalamic reticular nucleus cell\n",
      "Incompatibility between in NIFMOL:nifext_8054:Low threshold calcium T-current. Correcting to BBP_nlx_0011:Low threshold calcium T-current\n",
      "Incompatibility between in NIFCELL:sao1813327414:Thalamocortical cell. Correcting to NIFCELL:nifext_41:Thalamocortical cell\n",
      "Incompatibility between in NIFCELL:sao1813327414:Thalamic reticular nucleus cell. Correcting to NIFCELL:nifext_45:Thalamic reticular nucleus cell\n",
      "Incompatibility between in NIFCELL:nifext_46:Thalamus geniculate nucleus (lateral) interneuron. Correcting to NIFCELL:nifext_46:Thalamus interneuron small\n",
      "Incompatibility between in NIFCELL:nifext_46:Thalamus geniculate nucleus (lateral) interneuron. Correcting to NIFCELL:nifext_46:Thalamus interneuron small\n",
      "Incompatibility between in NIFCELL:nifext_46:Thalamus geniculate nucleus (lateral) interneuron. Correcting to NIFCELL:nifext_46:Thalamus interneuron small\n",
      "Incompatibility between in NIFMOL:nifext_8054:Low threshold calcium T-current. Correcting to BBP_nlx_0011:Low threshold calcium T-current\n",
      "Incompatibility between in NIFCELL:sao1813327414:Thalamocortical cell. Correcting to NIFCELL:nifext_41:Thalamocortical cell\n",
      "Incompatibility between in NIFMOL:sao1797800540:Calcium Channel. Correcting to NIFMOL:sao1846985919:Calcium Channel\n",
      "Incompatibility between in NIFMOL:sao1797800540:Calcium Channel. Correcting to NIFMOL:sao1846985919:Calcium Channel\n",
      "Incompatibility between in NIFMOL:nifext_8054:Sodium current. Correcting to NIFMOL:nifext_8055:Sodium current\n",
      "Incompatibility between in NIFMOL:nifext_8054:Potassium delayed rectifier. Correcting to BBP_nlx_0006:Potassium delayed rectifier\n",
      "Incompatibility between in NIFMOL:nifext_8054:I A, slow. Correcting to NIFMOL:nlx_mol_20081202:I A, slow\n",
      "Incompatibility between in NIFMOL:nifext_8054:Calcium-dependent potassium current. Correcting to NIFMOL:nifext_8060:Calcium-dependent potassium current\n",
      "Incompatibility between in NIFCELL:sao1813327414:Thalamus ventroposterior nucleus principal neuron. Correcting to nlx_151691:Thalamus ventroposterior nucleus principal neuron\n",
      "Incompatibility between in NIFMOL:nifext_8054:Slow calcium-dependent AHP potassium current. Correcting to BBP_nlx_0010:Slow calcium-dependent AHP potassium current\n",
      "Incompatibility between in NIFCELL:sao1813327414:Thalamus ventroposterior nucleus principal neuron. Correcting to nlx_151691:Thalamus ventroposterior nucleus principal neuron\n",
      "Incompatibility between in NIFCELL:sao1813327414:Thalamus ventroposterior nucleus principal neuron. Correcting to nlx_151691:Thalamus ventroposterior nucleus principal neuron\n",
      "Incompatibility between in NIFCELL:nlx_cell_20081203:Thalamus geniculate nucleus (lateral) principal neuron. Correcting to NIFCELL:nlx_cell_20081203:Thalamus relay cell\n",
      "Incompatibility between in NIFMOL:nifext_8054:Potassium delayed rectifier. Correcting to BBP_nlx_0006:Potassium delayed rectifier\n",
      "Incompatibility between in NIFCELL:sao1813327414:Thalamus ventroposterior nucleus principal neuron. Correcting to nlx_151691:Thalamus ventroposterior nucleus principal neuron\n",
      "Incompatibility between in NIFMOL:nifext_8055:Sodium leak current. Correcting to BBP_nlx_0002:Sodium leak current\n",
      "Incompatibility between in NIFCELL:sao1813327414:Thalamus ventroposterior nucleus principal neuron. Correcting to nlx_151691:Thalamus ventroposterior nucleus principal neuron\n",
      "Incompatibility between in NIFMOL:nifext_8054:Slow high threshold calcium current. Correcting to BBP_nlx_0012:Slow high threshold calcium current\n",
      "Incompatibility between in NIFCELL:sao1813327414:Thalamus ventroposterior nucleus principal neuron. Correcting to nlx_151691:Thalamus ventroposterior nucleus principal neuron\n",
      "Incompatibility between in NIFORG:birnlex_160:Young rat. Correcting to nlx_151691:Thalamus ventroposterior nucleus principal neuron\n",
      "Incompatibility between in NIFMOL:nifext_8054:Sodium transient fast current. Correcting to BBP_nlx_0003:Sodium transient fast current\n",
      "Incompatibility between in NIFCELL:sao1813327414:Thalamus ventroposterior nucleus principal neuron. Correcting to nlx_151691:Thalamus ventroposterior nucleus principal neuron\n",
      "Incompatibility between in NIFMOL:nifext_8054:Potassium leak current. Correcting to BBP_nlx_0007:Potassium leak current\n",
      "Incompatibility between in NIFCELL:sao1813327414:Thalamus ventroposterior nucleus principal neuron. Correcting to nlx_151691:Thalamus ventroposterior nucleus principal neuron\n",
      "Incompatibility between in NIFMOL:nifext_8055:Sodium pesistent current. Correcting to BBP_nlx_0005:Sodium pesistent current\n",
      "Incompatibility between in NIFCELL:sao1813327414:Thalamus ventroposterior nucleus principal neuron. Correcting to nlx_151691:Thalamus ventroposterior nucleus principal neuron\n",
      "Incompatibility between in NIFMOL:nifext_8054:Sodium pesistent current. Correcting to BBP_nlx_0005:Sodium pesistent current\n",
      "Incompatibility between in NIFCELL:sao1813327414:Thalamus ventroposterior nucleus principal neuron. Correcting to nlx_151691:Thalamus ventroposterior nucleus principal neuron\n",
      "Incompatibility between in NIFMOL:nifext_8054:Inward rectifier (h-type) current. Correcting to BBP_nlx_0018:Inward rectifier (h-type) current\n",
      "Incompatibility between in NIFCELL:sao1813327414:Thalamus ventroposterior nucleus principal neuron. Correcting to nlx_151691:Thalamus ventroposterior nucleus principal neuron\n",
      "Incompatibility between in NIFMOL:nifext_8054:Sodium leak current. Correcting to BBP_nlx_0002:Sodium leak current\n",
      "Incompatibility between in NIFCELL:sao1813327414:Thalamus ventroposterior nucleus principal neuron. Correcting to nlx_151691:Thalamus ventroposterior nucleus principal neuron\n",
      "Incompatibility between in NIFCELL:sao1813327414:Thalamus ventroposterior nucleus principal neuron. Correcting to nlx_151691:Thalamus ventroposterior nucleus principal neuron\n",
      "Incompatibility between in NIFMOL:nifext_8054:A current. Correcting to NIFMOL:nlx_mol_20081201:A current\n",
      "Incompatibility between in NIFMOL:nifext_8054:Low threshold calcium T-current. Correcting to BBP_nlx_0011:Low threshold calcium T-current\n",
      "Incompatibility between in NIFMOL:nifext_8054:Sodium transient fast current. Correcting to BBP_nlx_0003:Sodium transient fast current\n",
      "Incompatibility between in NIFMOL:nifext_8054:Potassium delayed rectifier. Correcting to BBP_nlx_0006:Potassium delayed rectifier\n",
      "Incompatibility between in NIFMOL:nifext_8054:Potassium delayed rectifier. Correcting to BBP_nlx_0006:Potassium delayed rectifier\n",
      "Incompatibility between in NIFCELL:sao1813327414:Thalamus interneuron small. Correcting to NIFCELL:nifext_46:Thalamus interneuron small\n",
      "Incompatibility between in NIFMOL:nifext_8054:Sodium transient fast current. Correcting to BBP_nlx_0003:Sodium transient fast current\n",
      "Incompatibility between in NIFMOL:nifext_8054:Potassium delayed rectifier. Correcting to BBP_nlx_0006:Potassium delayed rectifier\n",
      "Incompatibility between in NIFMOL:nifext_8054:Sodium transient fast current. Correcting to BBP_nlx_0003:Sodium transient fast current\n",
      "Incompatibility between in NIFMOL:nifext_8054:Potassium delayed rectifier. Correcting to BBP_nlx_0006:Potassium delayed rectifier\n",
      "Incompatibility between in NIFCELL:sao1813327414:Thalamocortical cell. Correcting to NIFCELL:nifext_41:Thalamocortical cell\n",
      "Incompatibility between in NIFCELL:sao1813327414:Thalamocortical cell. Correcting to NIFCELL:nifext_41:Thalamocortical cell\n",
      "Incompatibility between in NIFCELL:sao1813327414:Thalamocortical cell. Correcting to NIFCELL:nifext_41:Thalamocortical cell\n",
      "Incompatibility between in NIFCELL:sao1813327414:Thalamocortical cell. Correcting to NIFCELL:nifext_41:Thalamocortical cell\n",
      "Incompatibility between in NIFCELL:nifext_46:Thalamus geniculate nucleus (lateral) interneuron. Correcting to NIFCELL:nifext_46:Thalamus interneuron small\n",
      "Incompatibility between in NIFCELL:sao1813327414:Thalamic reticular nucleus cell. Correcting to NIFCELL:nifext_45:Thalamic reticular nucleus cell\n",
      "Incompatibility between in NIFCELL:nifext_46:Thalamus geniculate nucleus (lateral) interneuron. Correcting to NIFCELL:nifext_46:Thalamus interneuron small\n",
      "Incompatibility between in NIFCELL:sao1813327414:Thalamocortical cell. Correcting to NIFCELL:nifext_41:Thalamocortical cell\n",
      "Incompatibility between in NIFCELL:sao1813327414:Thalamocortical cell. Correcting to NIFCELL:nifext_41:Thalamocortical cell\n",
      "Incompatibility between in NIFCELL:nifext_46:Thalamus geniculate nucleus (lateral) interneuron. Correcting to NIFCELL:nifext_46:Thalamus interneuron small\n",
      "Incompatibility between in NIFCELL:nifext_46:Thalamus geniculate nucleus (lateral) interneuron. Correcting to NIFCELL:nifext_46:Thalamus interneuron small\n",
      "Incompatibility between in NIFCELL:nifext_46:Thalamus geniculate nucleus (lateral) interneuron. Correcting to NIFCELL:nifext_46:Thalamus interneuron small\n",
      "Incompatibility between in NIFCELL:nifext_46:Thalamus geniculate nucleus (lateral) interneuron. Correcting to NIFCELL:nifext_46:Thalamus interneuron small\n",
      "Incompatibility between in NIFCELL:nifext_46:Thalamus geniculate nucleus (lateral) interneuron. Correcting to NIFCELL:nifext_46:Thalamus interneuron small\n",
      "Incompatibility between in NIFMOL:nifext_8056:Leak ionic current. Correcting to BBP_nlx_0001:Leak ionic current\n",
      "Incompatibility between in NIFCELL:sao1813327414:Thalamocortical cell. Correcting to NIFCELL:nifext_41:Thalamocortical cell\n",
      "Incompatibility between in NIFMOL:nifext_8054:Leak ionic current. Correcting to BBP_nlx_0001:Leak ionic current\n",
      "Incompatibility between in NIFCELL:sao1813327414:Thalamocortical cell. Correcting to NIFCELL:nifext_41:Thalamocortical cell\n",
      "Incompatibility between in NIFCELL:nifext_46:Thalamus geniculate nucleus (lateral) interneuron. Correcting to NIFCELL:nifext_46:Thalamus interneuron small\n",
      "Incompatibility between in NIFMOL:nifext_8056:Inward rectifier (h-type) current. Correcting to BBP_nlx_0018:Inward rectifier (h-type) current\n",
      "Incompatibility between in NIFCELL:sao1813327414:Thalamocortical cell. Correcting to NIFCELL:nifext_41:Thalamocortical cell\n",
      "Incompatibility between in NIFMOL:nifext_8054:Inward rectifier (h-type) current. Correcting to BBP_nlx_0018:Inward rectifier (h-type) current\n",
      "Incompatibility between in NIFCELL:sao1813327414:Thalamocortical cell. Correcting to NIFCELL:nifext_41:Thalamocortical cell\n",
      "Incompatibility between in NIFMOL:nifext_8054:Low threshold calcium T-current. Correcting to BBP_nlx_0011:Low threshold calcium T-current\n",
      "Incompatibility between in NIFCELL:sao1813327414:Thalamocortical cell. Correcting to NIFCELL:nifext_41:Thalamocortical cell\n",
      "Incompatibility between in NIFMOL:nifext_8054:Low threshold calcium T-current. Correcting to BBP_nlx_0011:Low threshold calcium T-current\n",
      "Incompatibility between in NIFCELL:sao1813327414:Thalamocortical cell. Correcting to NIFCELL:nifext_41:Thalamocortical cell\n",
      "Incompatibility between in NIFMOL:nifext_8054:Calcium activated nonspecific cation current. Correcting to BBP_nlx_0016:Calcium activated nonspecific cation current\n",
      "Incompatibility between in NIFCELL:sao1813327414:Thalamocortical cell. Correcting to NIFCELL:nifext_41:Thalamocortical cell\n",
      "Incompatibility between in NIFMOL:nifext_8054:Potassium inward rectifier (Kir) current. Correcting to BBP_nlx_0019:Potassium inward rectifier (Kir) current\n",
      "Incompatibility between in NIFCELL:sao1813327414:Thalamocortical cell. Correcting to NIFCELL:nifext_41:Thalamocortical cell\n",
      "Incompatibility between in NIFMOL:nifext_8056:Potassium inward rectifier (Kir) current. Correcting to BBP_nlx_0019:Potassium inward rectifier (Kir) current\n",
      "Incompatibility between in NIFCELL:sao1813327414:Thalamocortical cell. Correcting to NIFCELL:nifext_41:Thalamocortical cell\n",
      "Incompatibility between in NIFCELL:nifext_46:Thalamus geniculate nucleus (lateral) interneuron. Correcting to NIFCELL:nifext_46:Thalamus interneuron small\n",
      "Incompatibility between in NIFMOL:nifext_8054:Fast voltage-gated potassium (Kf) current. Correcting to BBP_nlx_0020:Fast voltage-gated potassium (Kf) current\n",
      "Incompatibility between in NIFCELL:sao1813327414:Thalamocortical cell. Correcting to NIFCELL:nifext_41:Thalamocortical cell\n",
      "Incompatibility between in NIFMOL:nifext_8056:Fast voltage-gated potassium (Kf) current. Correcting to BBP_nlx_0020:Fast voltage-gated potassium (Kf) current\n",
      "Incompatibility between in NIFCELL:sao1813327414:Thalamocortical cell. Correcting to NIFCELL:nifext_41:Thalamocortical cell\n",
      "Incompatibility between in NIFCELL:nifext_46:Thalamus geniculate nucleus (lateral) interneuron. Correcting to NIFCELL:nifext_46:Thalamus interneuron small\n",
      "Incompatibility between in NIFMOL:nifext_8054:Sodium transient fast current. Correcting to BBP_nlx_0003:Sodium transient fast current\n",
      "Incompatibility between in NIFCELL:sao1813327414:Thalamocortical cell. Correcting to NIFCELL:nifext_41:Thalamocortical cell\n",
      "Incompatibility between in NIFMOL:nifext_8055:Sodium transient fast current. Correcting to BBP_nlx_0003:Sodium transient fast current\n",
      "Incompatibility between in NIFCELL:sao1813327414:Thalamocortical cell. Correcting to NIFCELL:nifext_41:Thalamocortical cell\n",
      "Incompatibility between in NIFCELL:nifext_46:Thalamus geniculate nucleus (lateral) interneuron. Correcting to NIFCELL:nifext_46:Thalamus interneuron small\n",
      "Incompatibility between in NIFCELL:nifext_46:Thalamus geniculate nucleus (lateral) interneuron. Correcting to NIFCELL:nifext_46:Thalamus interneuron small\n",
      "Incompatibility between in NIFCELL:nifext_46:Thalamus geniculate nucleus (lateral) interneuron. Correcting to NIFCELL:nifext_46:Thalamus interneuron small\n",
      "Incompatibility between in NIFCELL:nifext_46:Thalamus geniculate nucleus (lateral) interneuron. Correcting to NIFCELL:nifext_46:Thalamus interneuron small\n",
      "Incompatibility between in NIFCELL:nifext_46:Thalamus geniculate nucleus (lateral) interneuron. Correcting to NIFCELL:nifext_46:Thalamus interneuron small\n",
      "Incompatibility between in NIFCELL:nifext_46:Thalamus geniculate nucleus (lateral) interneuron. Correcting to NIFCELL:nifext_46:Thalamus interneuron small\n",
      "Incompatibility between in NIFCELL:nifext_46:Thalamus geniculate nucleus (lateral) interneuron. Correcting to NIFCELL:nifext_46:Thalamus interneuron small\n",
      "Incompatibility between in NIFCELL:nifext_46:Thalamus geniculate nucleus (lateral) interneuron. Correcting to NIFCELL:nifext_46:Thalamus interneuron small\n",
      "Incompatibility between in NIFCELL:nifext_46:Thalamus geniculate nucleus (lateral) interneuron. Correcting to NIFCELL:nifext_46:Thalamus interneuron small\n",
      "Incompatibility between in NIFCELL:nifext_46:Thalamus geniculate nucleus (lateral) interneuron. Correcting to NIFCELL:nifext_46:Thalamus interneuron small\n",
      "Incompatibility between in NIFCELL:nifext_46:Thalamus geniculate nucleus (lateral) interneuron. Correcting to NIFCELL:nifext_46:Thalamus interneuron small\n",
      "Incompatibility between in NIFMOL:nifext_8054:Low threshold calcium T-current. Correcting to BBP_nlx_0011:Low threshold calcium T-current\n",
      "Incompatibility between in NIFCELL:sao1813327414:Thalamocortical cell. Correcting to NIFCELL:nifext_41:Thalamocortical cell\n",
      "Incompatibility between in NIFCELL:nifext_46:Thalamus geniculate nucleus (lateral) interneuron. Correcting to NIFCELL:nifext_46:Thalamus interneuron small\n",
      "Incompatibility between in NIFCELL:sao1813327414:Thalamocortical cell. Correcting to NIFCELL:nifext_41:Thalamocortical cell\n",
      "Incompatibility between in NIFCELL:sao1813327414:Thalamocortical cell. Correcting to NIFCELL:nifext_41:Thalamocortical cell\n",
      "Incompatibility between in NIFCELL:sao1813327414:Thalamocortical cell. Correcting to NIFCELL:nifext_41:Thalamocortical cell\n",
      "Incompatibility between in NIFCELL:sao1813327414:Thalamocortical cell. Correcting to NIFCELL:nifext_41:Thalamocortical cell\n",
      "Incompatibility between in NIFCELL:sao1813327414:Thalamocortical cell. Correcting to NIFCELL:nifext_41:Thalamocortical cell\n",
      "Incompatibility between in NIFCELL:sao1813327414:Thalamocortical cell. Correcting to NIFCELL:nifext_41:Thalamocortical cell\n",
      "Incompatibility between in NIFCELL:sao1813327414:Thalamocortical cell. Correcting to NIFCELL:nifext_41:Thalamocortical cell\n",
      "Incompatibility between in NIFCELL:sao1813327414:Thalamocortical cell. Correcting to NIFCELL:nifext_41:Thalamocortical cell\n",
      "Incompatibility between in NIFCELL:sao1813327414:Thalamocortical cell. Correcting to NIFCELL:nifext_41:Thalamocortical cell\n",
      "Incompatibility between in NIFCELL:sao1813327414:Thalamocortical cell. Correcting to NIFCELL:nifext_41:Thalamocortical cell\n",
      "Incompatibility between in NIFCELL:sao1813327414:Thalamocortical cell. Correcting to NIFCELL:nifext_41:Thalamocortical cell\n",
      "Incompatibility between in NIFCELL:sao1813327414:Thalamus interneuron small. Correcting to NIFCELL:nifext_46:Thalamus interneuron small\n",
      "Incompatibility between in NIFCELL:sao1813327414:Thalamocortical cell. Correcting to NIFCELL:nifext_41:Thalamocortical cell\n",
      "Incompatibility between in NIFCELL:sao1813327414:Thalamus interneuron small. Correcting to NIFCELL:nifext_46:Thalamus interneuron small\n",
      "Incompatibility between in NIFCELL:sao1813327414:Thalamocortical cell. Correcting to NIFCELL:nifext_41:Thalamocortical cell\n",
      "Incompatibility between in NIFCELL:sao1813327414:Thalamus interneuron small. Correcting to NIFCELL:nifext_46:Thalamus interneuron small\n",
      "Incompatibility between in NIFCELL:sao1813327414:Thalamocortical cell. Correcting to NIFCELL:nifext_41:Thalamocortical cell\n",
      "Incompatibility between in NIFCELL:sao1813327414:Thalamus relay cell. Correcting to NIFCELL:nlx_cell_20081203:Thalamus relay cell\n",
      "Incompatibility between in NIFMOL:nifext_8054:Leak ionic current. Correcting to BBP_nlx_0001:Leak ionic current\n",
      "Incompatibility between in NIFCELL:sao1813327414:Thalamus relay cell. Correcting to NIFCELL:nlx_cell_20081203:Thalamus relay cell\n",
      "Incompatibility between in NIFMOL:nifext_8054:Sodium transient fast current. Correcting to BBP_nlx_0003:Sodium transient fast current\n",
      "Incompatibility between in NIFCELL:sao1813327414:Thalamus relay cell. Correcting to NIFCELL:nlx_cell_20081203:Thalamus relay cell\n",
      "Incompatibility between in NIFMOL:nifext_8054:Potassium delayed rectifier. Correcting to BBP_nlx_0006:Potassium delayed rectifier\n",
      "Incompatibility between in NIFCELL:sao1813327414:Thalamus relay cell. Correcting to NIFCELL:nlx_cell_20081203:Thalamus relay cell\n",
      "Incompatibility between in NIFMOL:nifext_8054:Sodium transient fast current. Correcting to BBP_nlx_0003:Sodium transient fast current\n",
      "Incompatibility between in NIFCELL:sao1813327414:Thalamus relay cell. Correcting to NIFCELL:nlx_cell_20081203:Thalamus relay cell\n",
      "Incompatibility between in NIFMOL:nifext_8054:Potassium delayed rectifier. Correcting to BBP_nlx_0006:Potassium delayed rectifier\n",
      "Incompatibility between in NIFCELL:sao1813327414:Thalamus relay cell. Correcting to NIFCELL:nlx_cell_20081203:Thalamus relay cell\n",
      "Incompatibility between in NIFMOL:nifext_8054:Low threshold calcium T-current. Correcting to BBP_nlx_0011:Low threshold calcium T-current\n",
      "Incompatibility between in NIFCELL:sao1813327414:Thalamus relay cell. Correcting to NIFCELL:nlx_cell_20081203:Thalamus relay cell\n",
      "Incompatibility between in NIFCELL:sao1813327414:Thalamic reticular nucleus cell. Correcting to NIFCELL:nifext_45:Thalamic reticular nucleus cell\n",
      "Incompatibility between in NIFMOL:nifext_8054:Leak ionic current. Correcting to BBP_nlx_0001:Leak ionic current\n",
      "Incompatibility between in NIFCELL:nifext_45:Thalamus reticular nucleus cell. Correcting to NIFCELL:nifext_45:Thalamic reticular nucleus cell\n",
      "Incompatibility between in NIFCELL:sao1813327414:Thalamic reticular nucleus cell. Correcting to NIFCELL:nifext_45:Thalamic reticular nucleus cell\n",
      "Incompatibility between in NIFMOL:nifext_8054:Leak ionic current. Correcting to BBP_nlx_0001:Leak ionic current\n",
      "Incompatibility between in NIFCELL:nifext_45:Thalamus reticular nucleus cell. Correcting to NIFCELL:nifext_45:Thalamic reticular nucleus cell\n",
      "Incompatibility between in NIFCELL:sao1813327414:Thalamic reticular nucleus cell. Correcting to NIFCELL:nifext_45:Thalamic reticular nucleus cell\n",
      "Incompatibility between in NIFMOL:nifext_8054:Low threshold calcium T-current. Correcting to BBP_nlx_0011:Low threshold calcium T-current\n",
      "Incompatibility between in NIFCELL:nifext_45:Thalamus reticular nucleus cell. Correcting to NIFCELL:nifext_45:Thalamic reticular nucleus cell\n",
      "Incompatibility between in NIFCELL:sao1813327414:Thalamic reticular nucleus cell. Correcting to NIFCELL:nifext_45:Thalamic reticular nucleus cell\n",
      "Incompatibility between in NIFMOL:nifext_8054:Inward rectifier (h-type) current. Correcting to BBP_nlx_0018:Inward rectifier (h-type) current\n",
      "Incompatibility between in NIFCELL:nifext_45:Thalamus reticular nucleus cell. Correcting to NIFCELL:nifext_45:Thalamic reticular nucleus cell\n",
      "Incompatibility between in NIFCELL:sao1813327414:Thalamus relay cell. Correcting to NIFCELL:nlx_cell_20081203:Thalamus relay cell\n",
      "Incompatibility between in NIFMOL:nifext_8054:Leak ionic current. Correcting to BBP_nlx_0001:Leak ionic current\n",
      "Incompatibility between in NIFCELL:sao1813327414:Thalamus relay cell. Correcting to NIFCELL:nlx_cell_20081203:Thalamus relay cell\n",
      "Incompatibility between in NIFMOL:nifext_8054:Leak ionic current. Correcting to BBP_nlx_0001:Leak ionic current\n",
      "Incompatibility between in NIFCELL:sao1813327414:Thalamus relay cell. Correcting to NIFCELL:nlx_cell_20081203:Thalamus relay cell\n",
      "Incompatibility between in NIFMOL:nifext_8054:Low threshold calcium T-current. Correcting to BBP_nlx_0011:Low threshold calcium T-current\n",
      "Incompatibility between in NIFCELL:sao1813327414:Thalamus relay cell. Correcting to NIFCELL:nlx_cell_20081203:Thalamus relay cell\n",
      "Incompatibility between in NIFMOL:nifext_8054:Inward rectifier (h-type) current. Correcting to BBP_nlx_0018:Inward rectifier (h-type) current\n",
      "Incompatibility between in NIFORG:birnlex_113:Cat. Correcting to NIFORG:birnlex_113:Domestic cat\n",
      "Incompatibility between in NIFMOL:nifext_8054:A current. Correcting to NIFMOL:nlx_mol_20081201:A current\n",
      "Incompatibility between in NIFCELL:sao1813327414:Thalamocortical cell. Correcting to NIFCELL:nifext_41:Thalamocortical cell\n",
      "Incompatibility between in NIFMOL:nifext_8054:Potassium current. Correcting to NIFMOL:nifext_8056:Potassium current\n",
      "Incompatibility between in NIFMOL:nifext_8054:Sodium transient fast current. Correcting to BBP_nlx_0003:Sodium transient fast current\n"
     ]
    },
    {
     "ename": "KeyError",
     "evalue": "'NIFMOL:nifext_6'",
     "output_type": "error",
     "traceback": [
      "\u001b[1;31m---------------------------------------------------------------------------\u001b[0m",
      "\u001b[1;31mKeyError\u001b[0m                                  Traceback (most recent call last)",
      "\u001b[1;32m<ipython-input-4-9eb87f6132fc>\u001b[0m in \u001b[0;36m<module>\u001b[1;34m()\u001b[0m\n\u001b[0;32m     10\u001b[0m \u001b[1;33m\u001b[0m\u001b[0m\n\u001b[0;32m     11\u001b[0m \u001b[1;31m# Searching for annotations\u001b[0m\u001b[1;33m\u001b[0m\u001b[1;33m\u001b[0m\u001b[0m\n\u001b[1;32m---> 12\u001b[1;33m \u001b[0msearcher\u001b[0m \u001b[1;33m=\u001b[0m \u001b[0mParameterSearch\u001b[0m\u001b[1;33m(\u001b[0m\u001b[0mrepo_dir\u001b[0m\u001b[1;33m)\u001b[0m\u001b[1;33m\u001b[0m\u001b[0m\n\u001b[0m\u001b[0;32m     13\u001b[0m \u001b[0msearcher\u001b[0m\u001b[1;33m.\u001b[0m\u001b[0msetSearchConditions\u001b[0m\u001b[1;33m(\u001b[0m\u001b[0mConditionAtom\u001b[0m\u001b[1;33m(\u001b[0m\u001b[1;34m\"Parameter name\"\u001b[0m\u001b[1;33m,\u001b[0m \u001b[1;34m\"conductance_ion_curr_max\"\u001b[0m\u001b[1;33m)\u001b[0m\u001b[1;33m)\u001b[0m\u001b[1;33m\u001b[0m\u001b[0m\n\u001b[0;32m     14\u001b[0m \u001b[0msearcher\u001b[0m\u001b[1;33m.\u001b[0m\u001b[0mexpandRequiredTags\u001b[0m \u001b[1;33m=\u001b[0m \u001b[1;32mTrue\u001b[0m\u001b[1;33m\u001b[0m\u001b[0m\n",
      "\u001b[1;32m/home/oreilly/.local/lib/python3.4/site-packages/neurocurator/annotationSearch.py\u001b[0m in \u001b[0;36m__init__\u001b[1;34m(self, pathDB)\u001b[0m\n\u001b[0;32m    303\u001b[0m \u001b[1;33m\u001b[0m\u001b[0m\n\u001b[0;32m    304\u001b[0m     \u001b[1;32mdef\u001b[0m \u001b[0m__init__\u001b[0m\u001b[1;33m(\u001b[0m\u001b[0mself\u001b[0m\u001b[1;33m,\u001b[0m \u001b[0mpathDB\u001b[0m\u001b[1;33m=\u001b[0m\u001b[1;32mNone\u001b[0m\u001b[1;33m)\u001b[0m\u001b[1;33m:\u001b[0m\u001b[1;33m\u001b[0m\u001b[0m\n\u001b[1;32m--> 305\u001b[1;33m         \u001b[0msuper\u001b[0m\u001b[1;33m(\u001b[0m\u001b[0mParameterSearch\u001b[0m\u001b[1;33m,\u001b[0m \u001b[0mself\u001b[0m\u001b[1;33m)\u001b[0m\u001b[1;33m.\u001b[0m\u001b[0m__init__\u001b[0m\u001b[1;33m(\u001b[0m\u001b[0mpathDB\u001b[0m\u001b[1;33m)\u001b[0m\u001b[1;33m\u001b[0m\u001b[0m\n\u001b[0m\u001b[0;32m    306\u001b[0m         \u001b[0mself\u001b[0m\u001b[1;33m.\u001b[0m\u001b[0mresultFields\u001b[0m \u001b[1;33m=\u001b[0m \u001b[0mparameterResultFields\u001b[0m\u001b[1;33m\u001b[0m\u001b[0m\n\u001b[0;32m    307\u001b[0m         \u001b[0mself\u001b[0m\u001b[1;33m.\u001b[0m\u001b[0mgetAllParameters\u001b[0m\u001b[1;33m(\u001b[0m\u001b[1;33m)\u001b[0m\u001b[1;33m\u001b[0m\u001b[0m\n",
      "\u001b[1;32m/home/oreilly/.local/lib/python3.4/site-packages/neurocurator/annotationSearch.py\u001b[0m in \u001b[0;36m__init__\u001b[1;34m(self, pathDB)\u001b[0m\n\u001b[0;32m    216\u001b[0m \u001b[1;33m\u001b[0m\u001b[0m\n\u001b[0;32m    217\u001b[0m         \u001b[0mself\u001b[0m\u001b[1;33m.\u001b[0m\u001b[0mpathDB\u001b[0m     \u001b[1;33m=\u001b[0m \u001b[0mpathDB\u001b[0m\u001b[1;33m\u001b[0m\u001b[0m\n\u001b[1;32m--> 218\u001b[1;33m         \u001b[0mself\u001b[0m\u001b[1;33m.\u001b[0m\u001b[0mgetAllAnnotations\u001b[0m\u001b[1;33m(\u001b[0m\u001b[1;33m)\u001b[0m\u001b[1;33m\u001b[0m\u001b[0m\n\u001b[0m\u001b[0;32m    219\u001b[0m         \u001b[0mself\u001b[0m\u001b[1;33m.\u001b[0m\u001b[0mselectedItems\u001b[0m \u001b[1;33m=\u001b[0m \u001b[1;32mNone\u001b[0m\u001b[1;33m\u001b[0m\u001b[0m\n\u001b[0;32m    220\u001b[0m \u001b[1;33m\u001b[0m\u001b[0m\n",
      "\u001b[1;32m/home/oreilly/.local/lib/python3.4/site-packages/neurocurator/annotationSearch.py\u001b[0m in \u001b[0;36mgetAllAnnotations\u001b[1;34m(self)\u001b[0m\n\u001b[0;32m    241\u001b[0m         \u001b[1;32mfor\u001b[0m \u001b[0mfileName\u001b[0m \u001b[1;32min\u001b[0m \u001b[0mglob\u001b[0m\u001b[1;33m(\u001b[0m\u001b[0mself\u001b[0m\u001b[1;33m.\u001b[0m\u001b[0mpathDB\u001b[0m \u001b[1;33m+\u001b[0m \u001b[1;34m\"/*.pcr\"\u001b[0m\u001b[1;33m)\u001b[0m\u001b[1;33m:\u001b[0m\u001b[1;33m\u001b[0m\u001b[0m\n\u001b[0;32m    242\u001b[0m             \u001b[1;31m#try:\u001b[0m\u001b[1;33m\u001b[0m\u001b[1;33m\u001b[0m\u001b[0m\n\u001b[1;32m--> 243\u001b[1;33m             \u001b[0mself\u001b[0m\u001b[1;33m.\u001b[0m\u001b[0mannotations\u001b[0m\u001b[1;33m.\u001b[0m\u001b[0mextend\u001b[0m\u001b[1;33m(\u001b[0m\u001b[0mAnnotation\u001b[0m\u001b[1;33m.\u001b[0m\u001b[0mreadIn\u001b[0m\u001b[1;33m(\u001b[0m\u001b[0mopen\u001b[0m\u001b[1;33m(\u001b[0m\u001b[0mfileName\u001b[0m\u001b[1;33m,\u001b[0m \u001b[1;34m\"r\"\u001b[0m\u001b[1;33m,\u001b[0m \u001b[0mencoding\u001b[0m\u001b[1;33m=\u001b[0m\u001b[1;34m\"utf-8\"\u001b[0m\u001b[1;33m,\u001b[0m \u001b[0merrors\u001b[0m\u001b[1;33m=\u001b[0m\u001b[1;34m'ignore'\u001b[0m\u001b[1;33m)\u001b[0m\u001b[1;33m)\u001b[0m\u001b[1;33m)\u001b[0m\u001b[1;33m\u001b[0m\u001b[0m\n\u001b[0m\u001b[0;32m    244\u001b[0m             \u001b[1;31m#except:\u001b[0m\u001b[1;33m\u001b[0m\u001b[1;33m\u001b[0m\u001b[0m\n\u001b[0;32m    245\u001b[0m             \u001b[1;31m#    print(\"Skipping: \", fileName)\u001b[0m\u001b[1;33m\u001b[0m\u001b[1;33m\u001b[0m\u001b[0m\n",
      "\u001b[1;32m/home/oreilly/.local/lib/python3.4/site-packages/neurocurator/annotation.py\u001b[0m in \u001b[0;36mreadIn\u001b[1;34m(fileObject)\u001b[0m\n\u001b[0;32m    212\u001b[0m                     \u001b[0mannot\u001b[0m\u001b[1;33m.\u001b[0m\u001b[0mtags\u001b[0m \u001b[1;33m=\u001b[0m \u001b[1;33m[\u001b[0m\u001b[0mTag\u001b[0m\u001b[1;33m(\u001b[0m\u001b[0mid\u001b[0m\u001b[1;33m,\u001b[0m \u001b[0mname\u001b[0m\u001b[1;33m)\u001b[0m \u001b[1;32mfor\u001b[0m \u001b[0mid\u001b[0m\u001b[1;33m,\u001b[0m \u001b[0mname\u001b[0m \u001b[1;32min\u001b[0m \u001b[0mjsonAnnot\u001b[0m\u001b[1;33m[\u001b[0m\u001b[1;34m\"tags\"\u001b[0m\u001b[1;33m]\u001b[0m\u001b[1;33m.\u001b[0m\u001b[0mitems\u001b[0m\u001b[1;33m(\u001b[0m\u001b[1;33m)\u001b[0m\u001b[1;33m]\u001b[0m\u001b[1;33m\u001b[0m\u001b[0m\n\u001b[0;32m    213\u001b[0m                 \u001b[1;32melse\u001b[0m\u001b[1;33m:\u001b[0m\u001b[1;33m\u001b[0m\u001b[0m\n\u001b[1;32m--> 214\u001b[1;33m                     \u001b[0mannot\u001b[0m\u001b[1;33m.\u001b[0m\u001b[0mtags\u001b[0m \u001b[1;33m=\u001b[0m \u001b[1;33m[\u001b[0m\u001b[0mTag\u001b[0m\u001b[1;33m.\u001b[0m\u001b[0mfromJSON\u001b[0m\u001b[1;33m(\u001b[0m\u001b[0mtag\u001b[0m\u001b[1;33m)\u001b[0m \u001b[1;32mfor\u001b[0m \u001b[0mtag\u001b[0m \u001b[1;32min\u001b[0m \u001b[0mjsonAnnot\u001b[0m\u001b[1;33m[\u001b[0m\u001b[1;34m\"tags\"\u001b[0m\u001b[1;33m]\u001b[0m\u001b[1;33m]\u001b[0m\u001b[1;33m\u001b[0m\u001b[0m\n\u001b[0m\u001b[0;32m    215\u001b[0m \u001b[1;33m\u001b[0m\u001b[0m\n\u001b[0;32m    216\u001b[0m \u001b[1;33m\u001b[0m\u001b[0m\n",
      "\u001b[1;32m/home/oreilly/.local/lib/python3.4/site-packages/neurocurator/annotation.py\u001b[0m in \u001b[0;36m<listcomp>\u001b[1;34m(.0)\u001b[0m\n\u001b[0;32m    212\u001b[0m                     \u001b[0mannot\u001b[0m\u001b[1;33m.\u001b[0m\u001b[0mtags\u001b[0m \u001b[1;33m=\u001b[0m \u001b[1;33m[\u001b[0m\u001b[0mTag\u001b[0m\u001b[1;33m(\u001b[0m\u001b[0mid\u001b[0m\u001b[1;33m,\u001b[0m \u001b[0mname\u001b[0m\u001b[1;33m)\u001b[0m \u001b[1;32mfor\u001b[0m \u001b[0mid\u001b[0m\u001b[1;33m,\u001b[0m \u001b[0mname\u001b[0m \u001b[1;32min\u001b[0m \u001b[0mjsonAnnot\u001b[0m\u001b[1;33m[\u001b[0m\u001b[1;34m\"tags\"\u001b[0m\u001b[1;33m]\u001b[0m\u001b[1;33m.\u001b[0m\u001b[0mitems\u001b[0m\u001b[1;33m(\u001b[0m\u001b[1;33m)\u001b[0m\u001b[1;33m]\u001b[0m\u001b[1;33m\u001b[0m\u001b[0m\n\u001b[0;32m    213\u001b[0m                 \u001b[1;32melse\u001b[0m\u001b[1;33m:\u001b[0m\u001b[1;33m\u001b[0m\u001b[0m\n\u001b[1;32m--> 214\u001b[1;33m                     \u001b[0mannot\u001b[0m\u001b[1;33m.\u001b[0m\u001b[0mtags\u001b[0m \u001b[1;33m=\u001b[0m \u001b[1;33m[\u001b[0m\u001b[0mTag\u001b[0m\u001b[1;33m.\u001b[0m\u001b[0mfromJSON\u001b[0m\u001b[1;33m(\u001b[0m\u001b[0mtag\u001b[0m\u001b[1;33m)\u001b[0m \u001b[1;32mfor\u001b[0m \u001b[0mtag\u001b[0m \u001b[1;32min\u001b[0m \u001b[0mjsonAnnot\u001b[0m\u001b[1;33m[\u001b[0m\u001b[1;34m\"tags\"\u001b[0m\u001b[1;33m]\u001b[0m\u001b[1;33m]\u001b[0m\u001b[1;33m\u001b[0m\u001b[0m\n\u001b[0m\u001b[0;32m    215\u001b[0m \u001b[1;33m\u001b[0m\u001b[0m\n\u001b[0;32m    216\u001b[0m \u001b[1;33m\u001b[0m\u001b[0m\n",
      "\u001b[1;32m/home/oreilly/.local/lib/python3.4/site-packages/neurocurator/tag.py\u001b[0m in \u001b[0;36mfromJSON\u001b[1;34m(jsonString)\u001b[0m\n\u001b[0;32m     64\u001b[0m     \u001b[1;33m@\u001b[0m\u001b[0mstaticmethod\u001b[0m\u001b[1;33m\u001b[0m\u001b[0m\n\u001b[0;32m     65\u001b[0m     \u001b[1;32mdef\u001b[0m \u001b[0mfromJSON\u001b[0m\u001b[1;33m(\u001b[0m\u001b[0mjsonString\u001b[0m\u001b[1;33m)\u001b[0m\u001b[1;33m:\u001b[0m\u001b[1;33m\u001b[0m\u001b[0m\n\u001b[1;32m---> 66\u001b[1;33m         \u001b[1;32mreturn\u001b[0m \u001b[0mTag\u001b[0m\u001b[1;33m(\u001b[0m\u001b[0mjsonString\u001b[0m\u001b[1;33m[\u001b[0m\u001b[1;34m\"id\"\u001b[0m\u001b[1;33m]\u001b[0m\u001b[1;33m,\u001b[0m \u001b[0mjsonString\u001b[0m\u001b[1;33m[\u001b[0m\u001b[1;34m\"name\"\u001b[0m\u001b[1;33m]\u001b[0m\u001b[1;33m)\u001b[0m\u001b[1;33m\u001b[0m\u001b[0m\n\u001b[0m\u001b[0;32m     67\u001b[0m \u001b[1;33m\u001b[0m\u001b[0m\n\u001b[0;32m     68\u001b[0m \u001b[1;33m\u001b[0m\u001b[0m\n",
      "\u001b[1;32m/home/oreilly/.local/lib/python3.4/site-packages/neurocurator/tag.py\u001b[0m in \u001b[0;36m__init__\u001b[1;34m(self, id, name)\u001b[0m\n\u001b[0;32m     33\u001b[0m \u001b[1;33m\u001b[0m\u001b[0m\n\u001b[0;32m     34\u001b[0m         \u001b[1;31m## TODO: remove this line once tag ids have been corrected in all annotatiuons\u001b[0m\u001b[1;33m\u001b[0m\u001b[1;33m\u001b[0m\u001b[0m\n\u001b[1;32m---> 35\u001b[1;33m         \u001b[1;32mif\u001b[0m \u001b[1;32mnot\u001b[0m \u001b[0mTag\u001b[0m\u001b[1;33m.\u001b[0m\u001b[0mdicData\u001b[0m\u001b[1;33m[\u001b[0m\u001b[0mid\u001b[0m\u001b[1;33m]\u001b[0m \u001b[1;33m==\u001b[0m \u001b[0mname\u001b[0m\u001b[1;33m:\u001b[0m\u001b[1;33m\u001b[0m\u001b[0m\n\u001b[0m\u001b[0;32m     36\u001b[0m             \u001b[1;32mtry\u001b[0m\u001b[1;33m:\u001b[0m\u001b[1;33m\u001b[0m\u001b[0m\n\u001b[0;32m     37\u001b[0m                 print(\"Incompatibility between in \" + str(id) + \":\" + str(name) + \". Correcting to \" + \n",
      "\u001b[1;32m/home/oreilly/.local/lib/python3.4/site-packages/neurocurator/qtOntoTrees.py\u001b[0m in \u001b[0;36m__getitem__\u001b[1;34m(self, key)\u001b[0m\n\u001b[0;32m    151\u001b[0m \u001b[1;33m\u001b[0m\u001b[0m\n\u001b[0;32m    152\u001b[0m         \u001b[1;32mdef\u001b[0m \u001b[0m__getitem__\u001b[0m\u001b[1;33m(\u001b[0m\u001b[0mself\u001b[0m\u001b[1;33m,\u001b[0m \u001b[0mkey\u001b[0m\u001b[1;33m)\u001b[0m\u001b[1;33m:\u001b[0m\u001b[1;33m\u001b[0m\u001b[0m\n\u001b[1;32m--> 153\u001b[1;33m             \u001b[1;32mreturn\u001b[0m \u001b[0mself\u001b[0m\u001b[1;33m.\u001b[0m\u001b[0mstore\u001b[0m\u001b[1;33m[\u001b[0m\u001b[0mself\u001b[0m\u001b[1;33m.\u001b[0m\u001b[0m__keytransform__\u001b[0m\u001b[1;33m(\u001b[0m\u001b[0mkey\u001b[0m\u001b[1;33m)\u001b[0m\u001b[1;33m]\u001b[0m\u001b[1;33m\u001b[0m\u001b[0m\n\u001b[0m\u001b[0;32m    154\u001b[0m \u001b[1;33m\u001b[0m\u001b[0m\n\u001b[0;32m    155\u001b[0m         \u001b[1;32mdef\u001b[0m \u001b[0m__setitem__\u001b[0m\u001b[1;33m(\u001b[0m\u001b[0mself\u001b[0m\u001b[1;33m,\u001b[0m \u001b[0mkey\u001b[0m\u001b[1;33m,\u001b[0m \u001b[0mvalue\u001b[0m\u001b[1;33m)\u001b[0m\u001b[1;33m:\u001b[0m\u001b[1;33m\u001b[0m\u001b[0m\n",
      "\u001b[1;31mKeyError\u001b[0m: 'NIFMOL:nifext_6'"
     ]
    }
   ],
   "source": [
    "# General imports\n",
    "import sys, os\n",
    "import matplotlib.pylab as plt\n",
    "import seaborn as sns\n",
    "import quantities as pq\n",
    "import numpy as np\n",
    "\n",
    "# Imports from NeuroCurator code base\n",
    "from neurocurator.annotationSearch import ParameterSearch, ConditionAtom\n",
    "\n",
    "# Searching for annotations\n",
    "searcher = ParameterSearch(repo_dir)\n",
    "searcher.setSearchConditions(ConditionAtom(\"Parameter name\", \"conductance_ion_curr_max\"))\n",
    "searcher.expandRequiredTags = True\n",
    "searcher.onlyCentralTendancy = True\n",
    "resultDF = searcher.search()\n",
    "\n",
    "# Checking which conductances have been specified as \"specific conductances\"\n",
    "# (i.e., conductance densities) and normalizing the units.\n",
    "isSpecific = []\n",
    "allConductances = []\n",
    "for v, u in zip(resultDF[\"Values\"], resultDF[\"Unit\"]):\n",
    "    try:\n",
    "        allConductances.append(float(pq.Quantity(v, u).rescale('S/cm**2')))\n",
    "        isSpecific.append(True)\n",
    "    except:\n",
    "        isSpecific.append(False)\n",
    "\n",
    "resultDF = resultDF[isSpecific]\n",
    "resultDF[\"Values\"] = np.log10(allConductances)"
   ]
  },
  {
   "cell_type": "markdown",
   "metadata": {},
   "source": [
    "# Plotting the result of our query"
   ]
  },
  {
   "cell_type": "code",
   "execution_count": 12,
   "metadata": {
    "collapsed": false
   },
   "outputs": [
    {
     "ename": "NameError",
     "evalue": "name 'resultDF' is not defined",
     "output_type": "error",
     "traceback": [
      "\u001b[1;31m---------------------------------------------------------------------------\u001b[0m",
      "\u001b[1;31mNameError\u001b[0m                                 Traceback (most recent call last)",
      "\u001b[1;32m<ipython-input-12-3dcc78ff1e4e>\u001b[0m in \u001b[0;36m<module>\u001b[1;34m()\u001b[0m\n\u001b[0;32m      3\u001b[0m \u001b[1;31m# Plotting a violin plot for annotated values for specific conductances\u001b[0m\u001b[1;33m\u001b[0m\u001b[1;33m\u001b[0m\u001b[0m\n\u001b[0;32m      4\u001b[0m \u001b[1;31m# of the various kind of ionic currents\u001b[0m\u001b[1;33m\u001b[0m\u001b[1;33m\u001b[0m\u001b[0m\n\u001b[1;32m----> 5\u001b[1;33m \u001b[0mg\u001b[0m \u001b[1;33m=\u001b[0m \u001b[0msns\u001b[0m\u001b[1;33m.\u001b[0m\u001b[0mviolinplot\u001b[0m\u001b[1;33m(\u001b[0m\u001b[0my\u001b[0m\u001b[1;33m=\u001b[0m\u001b[1;34m\"Transmembrane ionic current\"\u001b[0m\u001b[1;33m,\u001b[0m \u001b[0mx\u001b[0m\u001b[1;33m=\u001b[0m\u001b[1;34m\"Values\"\u001b[0m\u001b[1;33m,\u001b[0m \u001b[0mdata\u001b[0m\u001b[1;33m=\u001b[0m\u001b[0mresultDF\u001b[0m\u001b[1;33m,\u001b[0m \u001b[0mbw\u001b[0m\u001b[1;33m=\u001b[0m\u001b[1;36m0.25\u001b[0m\u001b[1;33m)\u001b[0m\u001b[1;33m\u001b[0m\u001b[0m\n\u001b[0m\u001b[0;32m      6\u001b[0m \u001b[0mg\u001b[0m \u001b[1;33m=\u001b[0m \u001b[0msns\u001b[0m\u001b[1;33m.\u001b[0m\u001b[0mswarmplot\u001b[0m\u001b[1;33m(\u001b[0m \u001b[0my\u001b[0m\u001b[1;33m=\u001b[0m\u001b[1;34m\"Transmembrane ionic current\"\u001b[0m\u001b[1;33m,\u001b[0m \u001b[0mx\u001b[0m\u001b[1;33m=\u001b[0m\u001b[1;34m\"Values\"\u001b[0m\u001b[1;33m,\u001b[0m \u001b[0mdata\u001b[0m\u001b[1;33m=\u001b[0m\u001b[0mresultDF\u001b[0m\u001b[1;33m)\u001b[0m\u001b[1;33m\u001b[0m\u001b[0m\n\u001b[0;32m      7\u001b[0m \u001b[0mg\u001b[0m\u001b[1;33m.\u001b[0m\u001b[0mset_ylabel\u001b[0m\u001b[1;33m(\u001b[0m\u001b[1;34m\"\"\u001b[0m\u001b[1;33m)\u001b[0m\u001b[1;33m\u001b[0m\u001b[0m\n",
      "\u001b[1;31mNameError\u001b[0m: name 'resultDF' is not defined"
     ]
    }
   ],
   "source": [
    "%matplotlib inline\n",
    "\n",
    "# Plotting a violin plot for annotated values for specific conductances\n",
    "# of the various kind of ionic currents \n",
    "g = sns.violinplot(y=\"Transmembrane ionic current\", x=\"Values\", data=resultDF, bw=0.25)\n",
    "g = sns.swarmplot( y=\"Transmembrane ionic current\", x=\"Values\", data=resultDF)\n",
    "g.set_ylabel(\"\")\n",
    "g.set_xlabel(\"Specific conductance ($S/cm^2$)\")\n",
    "g.set_xticklabels([('%.0e' % 10**nb) for nb in g.get_xticks()]) \n",
    "plt.plot()\n",
    "plt.savefig('example_currents.png', bbox_inches='tight', transparent=True, dpi=200)"
   ]
  },
  {
   "cell_type": "markdown",
   "metadata": {},
   "source": [
    "# Printing the JSON representation of a specific annotation of the plot"
   ]
  },
  {
   "cell_type": "code",
   "execution_count": null,
   "metadata": {
    "collapsed": false
   },
   "outputs": [],
   "source": [
    "import json\n",
    "record = resultDF[resultDF[\"Transmembrane ionic current\"] == \"Fast voltage-gated potassium (Kf) current\"]\n",
    "print(json.dumps(record[\"obj_annotation\"].values[0].toJSON(), \n",
    "                 sort_keys=True, indent=4, separators=(',', ': ')))"
   ]
  },
  {
   "cell_type": "markdown",
   "metadata": {
    "collapsed": true
   },
   "source": [
    "# Showing the annotated text in its context"
   ]
  },
  {
   "cell_type": "code",
   "execution_count": null,
   "metadata": {
    "collapsed": true
   },
   "outputs": [],
   "source": []
  }
 ],
 "metadata": {
  "kernelspec": {
   "display_name": "Python 3",
   "language": "python",
   "name": "python3"
  },
  "language_info": {
   "codemirror_mode": {
    "name": "ipython",
    "version": 3
   },
   "file_extension": ".py",
   "mimetype": "text/x-python",
   "name": "python",
   "nbconvert_exporter": "python",
   "pygments_lexer": "ipython3",
   "version": "3.4.3"
  }
 },
 "nbformat": 4,
 "nbformat_minor": 0
}
